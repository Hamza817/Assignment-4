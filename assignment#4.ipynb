{
 "cells": [
  {
   "cell_type": "code",
   "execution_count": 13,
   "id": "d422f24d",
   "metadata": {},
   "outputs": [
    {
     "name": "stdout",
     "output_type": "stream",
     "text": [
      "Select any one operation\n",
      "1. Addition\n",
      "2. Subtruction\n",
      "3. Multiplication\n",
      "4. Division\n",
      "5. Power\n",
      "Enter the number of operation from below given option = 5\n",
      "Enter the first number = 6\n",
      "Enter the seccond number = 2\n",
      "6.0 ** 2.0 = 36.0\n"
     ]
    }
   ],
   "source": [
    "\"\"\"1. Make a calculator using Python with addition , subtraction ,\n",
    "multiplication ,division and power.\"\"\"\n",
    "\n",
    "def add (x, y):\n",
    "    return x + y\n",
    "\n",
    "def sub (x, y):\n",
    "    return x - y\n",
    "\n",
    "def mul (x, y):\n",
    "    return x * y\n",
    "\n",
    "def div (x, y):\n",
    "    return x / y\n",
    "\n",
    "def power (x, y):\n",
    "    return x ** y\n",
    "\n",
    "print(\"Select any one operation\")\n",
    "print (\"1. Addition\")\n",
    "print (\"2. Subtruction\")\n",
    "print (\"3. Multiplication\")\n",
    "print (\"4. Division\")\n",
    "print (\"5. Power\")\n",
    "\n",
    "while True:\n",
    "    choice = input (\"Enter the number of operation from below given option = \")\n",
    "    \n",
    "    if choice in ('1','2','3','4','5'):\n",
    "        num1 = float(input(\"Enter the first number = \"))\n",
    "        num2 = float(input(\"Enter the seccond number = \"))\n",
    "        if choice == '1':\n",
    "            print(\"Addition: \",num1,\"+\", num2, \"=\", add(num1, num2))\n",
    "        elif choice == '2':\n",
    "            print(num1,\"-\", num2, \"=\", sub(num1, num2))\n",
    "        elif choice == '3':\n",
    "            print(num1,\"*\", num2, \"=\", mul(num1, num2))\n",
    "        elif choice == '4':\n",
    "            print(num1,\"/\", num2, \"=\", div(num1, num2))\n",
    "        elif choice == '5':\n",
    "            print(num1,\"**\", num2, \"=\", power(num1, num2))\n",
    "        else:\n",
    "            print(\"Invlid\")\n",
    "        break"
   ]
  },
  {
   "cell_type": "code",
   "execution_count": 4,
   "id": "91aefa7f",
   "metadata": {},
   "outputs": [
    {
     "name": "stdout",
     "output_type": "stream",
     "text": [
      "1\n",
      "2\n"
     ]
    }
   ],
   "source": [
    "\"\"\"2. Write a program to check if there is any numeric value in list using for\n",
    "loop.\"\"\"\n",
    "\n",
    "lst = [\"a\", \"b\", 1, \"c\", 2] \n",
    "for x in lst: \n",
    "    if type(x) == int: \n",
    "        print(x)"
   ]
  },
  {
   "cell_type": "code",
   "execution_count": 6,
   "id": "d7c9139b",
   "metadata": {},
   "outputs": [
    {
     "name": "stdout",
     "output_type": "stream",
     "text": [
      "{1: 'a', 2: 'b', 3: 'c', 4: 'd'}\n"
     ]
    }
   ],
   "source": [
    "\"\"\"3. Write a Python script to add a key to a dictionary.\"\"\"\n",
    "\n",
    "dic = {1:'a', 2:'b', 3:'c'}\n",
    "dic.update({4:'d'})\n",
    "print(dic)"
   ]
  },
  {
   "cell_type": "code",
   "execution_count": 12,
   "id": "cc9b5f16",
   "metadata": {},
   "outputs": [
    {
     "name": "stdout",
     "output_type": "stream",
     "text": [
      "10\n"
     ]
    }
   ],
   "source": [
    "\"\"\"4. Write a Python program to sum all the numeric items in a dictionary.\"\"\"\n",
    "\n",
    "dic = {1: 'a', 2: 'b', 3: 'c', 4: 'd'}\n",
    "print(sum(dic))"
   ]
  },
  {
   "cell_type": "code",
   "execution_count": 17,
   "id": "caaf8462",
   "metadata": {},
   "outputs": [
    {
     "name": "stdout",
     "output_type": "stream",
     "text": [
      "[1, 2, 3, 5, 6, 8]\n"
     ]
    }
   ],
   "source": [
    "\"\"\"5. Write a program to identify duplicate values from list.\"\"\"\n",
    "\n",
    "a = [1,2,3,2,5,6,5,8,1]\n",
    "b = []\n",
    "for i in a:\n",
    "    if i not in b:\n",
    "        b.append(i)\n",
    "print(b)\n",
    "    "
   ]
  },
  {
   "cell_type": "code",
   "execution_count": 20,
   "id": "31f0d07f",
   "metadata": {},
   "outputs": [
    {
     "name": "stdout",
     "output_type": "stream",
     "text": [
      "key exists\n"
     ]
    }
   ],
   "source": [
    "\"\"\"6. Write a Python script to check if a given key already exists in a\n",
    "dictionary\"\"\"\n",
    "\n",
    "check = {1: 'a', 2: 'b', 3: 'c', 4: 'd',5:'e'}\n",
    "key_check = 5\n",
    "if key_check in check:\n",
    "    print(\"key exists\")\n",
    "else:\n",
    "    print(\"not exists\")"
   ]
  },
  {
   "cell_type": "code",
   "execution_count": null,
   "id": "9ef09aae",
   "metadata": {},
   "outputs": [],
   "source": []
  }
 ],
 "metadata": {
  "kernelspec": {
   "display_name": "Python 3",
   "language": "python",
   "name": "python3"
  },
  "language_info": {
   "codemirror_mode": {
    "name": "ipython",
    "version": 3
   },
   "file_extension": ".py",
   "mimetype": "text/x-python",
   "name": "python",
   "nbconvert_exporter": "python",
   "pygments_lexer": "ipython3",
   "version": "3.8.8"
  }
 },
 "nbformat": 4,
 "nbformat_minor": 5
}
